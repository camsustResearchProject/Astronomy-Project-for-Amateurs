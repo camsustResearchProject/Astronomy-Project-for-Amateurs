{
 "cells": [
  {
   "cell_type": "markdown",
   "id": "7267ad5f",
   "metadata": {},
   "source": [
    "# Project-b, Task 2\n",
    "## Create an interactive intensity slider for controlling filter (for Composite Image) which will provide a dynamic way to adjust the intensity of filters and visualize changes.\n",
    "### Participant: Rantideb Roy \n",
    "### Student,Dept. of CSE ( SUST)\n",
    "### Lecturer: Tanmoy Bhowmik \n",
    "### Student, Dept. of Physics ( SUST)\n"
   ]
  },
  {
   "cell_type": "code",
   "execution_count": 6,
   "id": "99a3b5c0-4abd-46c7-a35b-95faa79aa15e",
   "metadata": {
    "scrolled": false
   },
   "outputs": [
    {
     "data": {
      "application/vnd.jupyter.widget-view+json": {
       "model_id": "80b96c39ef244207a847b364d77233e7",
       "version_major": 2,
       "version_minor": 0
      },
      "text/plain": [
       "interactive(children=(FloatSlider(value=0.7, description='X-ray Intensity', max=1.0), FloatSlider(value=0.8, d…"
      ]
     },
     "metadata": {},
     "output_type": "display_data"
    }
   ],
   "source": [
    "import numpy as np\n",
    "import matplotlib.pyplot as plt\n",
    "from astropy.io import fits\n",
    "from skimage import exposure\n",
    "import ipywidgets as widgets\n",
    "from IPython.display import display\n",
    "\n",
    "# Load the FITS files for X-ray, IR, and RGB images\n",
    "xray_file = 'n2207_XRAY.fits'\n",
    "ir_file = 'n2207_IR.fits'\n",
    "rgb_files = ['n2207_OPT_R.fits', 'n2207_OPT_G.fits', 'n2207_OPT_B.fits']\n",
    "\n",
    "# Load the X-ray, IR, and RGB images\n",
    "xray_data = fits.getdata(xray_file)\n",
    "ir_data = fits.getdata(ir_file)\n",
    "r_data = fits.getdata(rgb_files[0])\n",
    "g_data = fits.getdata(rgb_files[1])\n",
    "b_data = fits.getdata(rgb_files[2])\n",
    "\n",
    "# Normalize the data to the range [0, 1]\n",
    "xray_data = exposure.rescale_intensity(xray_data, in_range='image', out_range=(0, 1))\n",
    "ir_data = exposure.rescale_intensity(ir_data, in_range='image', out_range=(0, 1))\n",
    "r_data = exposure.rescale_intensity(r_data, in_range='image', out_range=(0, 1))\n",
    "g_data = exposure.rescale_intensity(g_data, in_range='image', out_range=(0, 1))\n",
    "b_data = exposure.rescale_intensity(b_data, in_range='image', out_range=(0, 1))\n",
    "\n",
    "# Define function to update the image\n",
    "def update_image(xray_intensity, ir_intensity, rgb_intensity):\n",
    "    # Apply intensity scaling to each component\n",
    "    scaled_xray = xray_data * xray_intensity\n",
    "    scaled_ir = ir_data * ir_intensity\n",
    "    scaled_rgb = np.dstack([r_data * rgb_intensity, g_data * rgb_intensity, b_data * rgb_intensity])\n",
    "\n",
    "    # Convert X-ray data to a colored image (e.g., pink/purple hue)\n",
    "    xray_colored = np.dstack([scaled_xray * 1.0, scaled_xray * 0.3, scaled_xray * 0.6])\n",
    "\n",
    "    # Combine the IR data into a green hue image\n",
    "    ir_colored = np.dstack([scaled_ir * 0.2, scaled_ir * 1.0, scaled_ir * 0.2])\n",
    "\n",
    "    # Create the composite image\n",
    "    composite_image = scaled_rgb + ir_colored + xray_colored\n",
    "\n",
    "    # Clip the image to make sure the pixel values are within the valid range [0, 1]\n",
    "    composite_image = np.clip(composite_image, 0, 1)\n",
    "\n",
    "    # Display the composite image\n",
    "    plt.figure(figsize=(10, 6))\n",
    "    plt.imshow(composite_image)\n",
    "    plt.title('Composite Image (IR, RGB, X-ray)')\n",
    "    plt.axis('off')\n",
    "    plt.show()\n",
    "\n",
    "# Creating sliders for interactive control\n",
    "xray_slider = widgets.FloatSlider(value=0.7, min=0, max=1, step=0.1, description='X-ray Intensity')\n",
    "ir_slider = widgets.FloatSlider(value=0.8, min=0, max=1, step=0.1, description='IR Intensity')\n",
    "rgb_slider = widgets.FloatSlider(value=1.0, min=0, max=2, step=0.1, description='RGB Intensity')\n",
    "\n",
    "\n",
    "# Display the sliders and connect them to the update function\n",
    "interactive_plot = widgets.interactive(update_image, xray_intensity=xray_slider, ir_intensity=ir_slider, rgb_intensity=rgb_slider)\n",
    "display(interactive_plot)\n"
   ]
  },
  {
   "cell_type": "code",
   "execution_count": null,
   "id": "71efbcc6-03c3-480d-b9d4-3f0f2f96529a",
   "metadata": {},
   "outputs": [],
   "source": []
  }
 ],
 "metadata": {
  "kernelspec": {
   "display_name": "Python 3 (ipykernel)",
   "language": "python",
   "name": "python3"
  },
  "language_info": {
   "codemirror_mode": {
    "name": "ipython",
    "version": 3
   },
   "file_extension": ".py",
   "mimetype": "text/x-python",
   "name": "python",
   "nbconvert_exporter": "python",
   "pygments_lexer": "ipython3",
   "version": "3.10.9"
  }
 },
 "nbformat": 4,
 "nbformat_minor": 5
}
