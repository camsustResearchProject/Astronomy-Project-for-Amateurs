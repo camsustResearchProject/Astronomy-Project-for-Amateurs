{
 "cells": [
  {
   "cell_type": "markdown",
   "metadata": {},
   "source": [
    "<h1 align = 'center'>Session 1 : Basics of Python Packages </h1>\n",
    "<h3 align = 'center'>Copernicus Astronomical Memorial of SUST</h4>\n",
    "<p align = 'center'> Author : K M Shariat Ullah <br> Student, Electrical and Electronic Engineering, <br> Shahjalal University of Science and Technology, Sylhet </p>"
   ]
  }
 ],
 "metadata": {
  "language_info": {
   "name": "python"
  }
 },
 "nbformat": 4,
 "nbformat_minor": 2
}
